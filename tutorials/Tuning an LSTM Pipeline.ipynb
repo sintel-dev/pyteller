{
 "cells": [
  {
   "cell_type": "markdown",
   "metadata": {},
   "source": [
    "# Tuning a Pyteller Pipeline\n",
    "In this notebook, we walk through the processes of tuning a pipeline, which is as simple as specifying which parameters to tune and their ranges in the pipeline `.json`, then setting the `tune=True` argument in the `pyteller.fit` method."
   ]
  },
  {
   "cell_type": "code",
   "execution_count": 7,
   "metadata": {
    "pycharm": {
     "is_executing": true,
     "name": "#%%\n"
    }
   },
   "outputs": [],
   "source": [
    "from pyteller.data import load_data"
   ]
  },
  {
   "cell_type": "markdown",
   "metadata": {},
   "source": [
    " \n",
    "## Load the input Data\n",
    "Input data is loaded from s3 bucket"
   ]
  },
  {
   "cell_type": "code",
   "execution_count": 8,
   "metadata": {
    "pycharm": {
     "is_executing": true,
     "name": "#%%\n"
    }
   },
   "outputs": [
    {
     "data": {
      "text/html": [
       "<div>\n",
       "<style scoped>\n",
       "    .dataframe tbody tr th:only-of-type {\n",
       "        vertical-align: middle;\n",
       "    }\n",
       "\n",
       "    .dataframe tbody tr th {\n",
       "        vertical-align: top;\n",
       "    }\n",
       "\n",
       "    .dataframe thead th {\n",
       "        text-align: right;\n",
       "    }\n",
       "</style>\n",
       "<table border=\"1\" class=\"dataframe\">\n",
       "  <thead>\n",
       "    <tr style=\"text-align: right;\">\n",
       "      <th></th>\n",
       "      <th>station</th>\n",
       "      <th>valid</th>\n",
       "      <th>tmpf</th>\n",
       "      <th>dwpf</th>\n",
       "      <th>relh</th>\n",
       "      <th>drct</th>\n",
       "      <th>sknt</th>\n",
       "      <th>p01i</th>\n",
       "      <th>alti</th>\n",
       "      <th>vsby</th>\n",
       "      <th>feel</th>\n",
       "    </tr>\n",
       "  </thead>\n",
       "  <tbody>\n",
       "    <tr>\n",
       "      <th>0</th>\n",
       "      <td>8A0</td>\n",
       "      <td>1/1/16 0:15</td>\n",
       "      <td>41.0</td>\n",
       "      <td>39.2</td>\n",
       "      <td>93.24</td>\n",
       "      <td>350</td>\n",
       "      <td>6</td>\n",
       "      <td>0.0</td>\n",
       "      <td>30.25</td>\n",
       "      <td>10.0</td>\n",
       "      <td>36.37</td>\n",
       "    </tr>\n",
       "    <tr>\n",
       "      <th>1</th>\n",
       "      <td>4A6</td>\n",
       "      <td>1/1/16 0:15</td>\n",
       "      <td>41.0</td>\n",
       "      <td>32.0</td>\n",
       "      <td>70.08</td>\n",
       "      <td>360</td>\n",
       "      <td>5</td>\n",
       "      <td>0.0</td>\n",
       "      <td>30.30</td>\n",
       "      <td>10.0</td>\n",
       "      <td>37.08</td>\n",
       "    </tr>\n",
       "    <tr>\n",
       "      <th>2</th>\n",
       "      <td>8A0</td>\n",
       "      <td>1/1/16 0:35</td>\n",
       "      <td>39.2</td>\n",
       "      <td>37.4</td>\n",
       "      <td>93.19</td>\n",
       "      <td>360</td>\n",
       "      <td>6</td>\n",
       "      <td>0.0</td>\n",
       "      <td>30.25</td>\n",
       "      <td>10.0</td>\n",
       "      <td>34.20</td>\n",
       "    </tr>\n",
       "    <tr>\n",
       "      <th>3</th>\n",
       "      <td>4A6</td>\n",
       "      <td>1/1/16 0:35</td>\n",
       "      <td>41.0</td>\n",
       "      <td>32.0</td>\n",
       "      <td>70.08</td>\n",
       "      <td>360</td>\n",
       "      <td>5</td>\n",
       "      <td>0.0</td>\n",
       "      <td>30.29</td>\n",
       "      <td>10.0</td>\n",
       "      <td>37.08</td>\n",
       "    </tr>\n",
       "    <tr>\n",
       "      <th>4</th>\n",
       "      <td>8A0</td>\n",
       "      <td>1/1/16 0:55</td>\n",
       "      <td>37.4</td>\n",
       "      <td>37.4</td>\n",
       "      <td>100.00</td>\n",
       "      <td>360</td>\n",
       "      <td>8</td>\n",
       "      <td>0.0</td>\n",
       "      <td>30.25</td>\n",
       "      <td>10.0</td>\n",
       "      <td>30.76</td>\n",
       "    </tr>\n",
       "  </tbody>\n",
       "</table>\n",
       "</div>"
      ],
      "text/plain": [
       "  station        valid  tmpf  dwpf    relh  drct  sknt  p01i   alti  vsby  \\\n",
       "0     8A0  1/1/16 0:15  41.0  39.2   93.24   350     6   0.0  30.25  10.0   \n",
       "1     4A6  1/1/16 0:15  41.0  32.0   70.08   360     5   0.0  30.30  10.0   \n",
       "2     8A0  1/1/16 0:35  39.2  37.4   93.19   360     6   0.0  30.25  10.0   \n",
       "3     4A6  1/1/16 0:35  41.0  32.0   70.08   360     5   0.0  30.29  10.0   \n",
       "4     8A0  1/1/16 0:55  37.4  37.4  100.00   360     8   0.0  30.25  10.0   \n",
       "\n",
       "    feel  \n",
       "0  36.37  \n",
       "1  37.08  \n",
       "2  34.20  \n",
       "3  37.08  \n",
       "4  30.76  "
      ]
     },
     "execution_count": 8,
     "metadata": {},
     "output_type": "execute_result"
    }
   ],
   "source": [
    "current_data,input_data = load_data('AL_Weather')\n",
    "current_data.head()"
   ]
  },
  {
   "cell_type": "code",
   "execution_count": 13,
   "metadata": {
    "pycharm": {
     "is_executing": true,
     "name": "#%%\n"
    }
   },
   "outputs": [],
   "source": [
    "pipeline = 'pyteller.LSTM.LSTM'"
   ]
  },
  {
   "cell_type": "markdown",
   "metadata": {},
   "source": [
    "## Set hyperparameters"
   ]
  },
  {
   "cell_type": "code",
   "execution_count": 14,
   "metadata": {
    "pycharm": {
     "is_executing": true,
     "name": "#%%\n"
    }
   },
   "outputs": [],
   "source": [
    "hyperparameters = {\n",
    "    'keras.Sequential.LSTMTimeSeriesRegressor#1': {\n",
    "        'epochs': 10,\n",
    "        'verbose': False\n",
    "    }\n",
    "}\n"
   ]
  },
  {
   "cell_type": "code",
   "execution_count": 15,
   "metadata": {
    "pycharm": {
     "is_executing": true,
     "name": "#%%\n"
    }
   },
   "outputs": [
    {
     "data": {
      "text/plain": [
       "['pyteller.ARIMA.arima',\n",
       " 'pyteller.LSTM.LSTM',\n",
       " 'pyteller.persistence.persistence']"
      ]
     },
     "execution_count": 15,
     "metadata": {},
     "output_type": "execute_result"
    }
   ],
   "source": [
    "from mlblocks.discovery import find_pipelines\n",
    "find_pipelines('pyteller')"
   ]
  },
  {
   "cell_type": "markdown",
   "source": [
    "## Instantiate the pyteller pipeline \n",
    "by specifying the column names and desired prediction length"
   ],
   "metadata": {
    "collapsed": false
   }
  },
  {
   "cell_type": "code",
   "execution_count": 16,
   "metadata": {
    "pycharm": {
     "is_executing": true,
     "name": "#%%\n"
    }
   },
   "outputs": [],
   "source": [
    "from pyteller.core import Pyteller\n",
    "\n",
    "pyteller = Pyteller(\n",
    "    pipeline=pipeline,\n",
    "    pred_length=5,\n",
    "    offset=0,\n",
    "    time_column='valid',\n",
    "    targets='tmpf',\n",
    "    entity_column='station',\n",
    "    entities='8A0',\n",
    ")"
   ]
  },
  {
   "cell_type": "markdown",
   "metadata": {},
   "source": [
    "## Get the tunable hyperparameters\n",
    "These hyperparamteres are set in the primitive `.jsons` and also can be set in the pipelines in the `tunable` `.json` field\n"
   ]
  },
  {
   "cell_type": "code",
   "execution_count": 17,
   "metadata": {
    "pycharm": {
     "is_executing": true,
     "name": "#%%\n"
    }
   },
   "outputs": [
    {
     "name": "stdout",
     "output_type": "stream",
     "text": [
      "{('sklearn.impute.SimpleImputer#1', 'strategy'): {'type': 'str', 'default': 'mean', 'values': ['mean', 'median', 'most_frequent', 'constant']}, ('keras.Sequential.LSTMTimeSeriesRegressor#1', 'lstm_1_units'): {'type': 'int', 'default': 80, 'range': [1, 500]}, ('keras.Sequential.LSTMTimeSeriesRegressor#1', 'dropout_1_rate'): {'type': 'float', 'default': 0.3, 'range': [0.01, 0.75]}, ('keras.Sequential.LSTMTimeSeriesRegressor#1', 'lstm_2_units'): {'type': 'int', 'default': 80, 'range': [1, 500]}, ('keras.Sequential.LSTMTimeSeriesRegressor#1', 'dropout_2_rate'): {'type': 'float', 'default': 0.3, 'range': [0.01, 0.75]}}\n"
     ]
    }
   ],
   "source": [
    "tunables = pyteller.pipeline.get_tunable_hyperparameters(flat=True)\n",
    "print(tunables)"
   ]
  },
  {
   "cell_type": "markdown",
   "metadata": {},
   "source": [
    "## Fit the pipeline"
   ]
  },
  {
   "cell_type": "code",
   "execution_count": 18,
   "metadata": {
    "pycharm": {
     "is_executing": true,
     "name": "#%%\n"
    }
   },
   "outputs": [
    {
     "name": "stdout",
     "output_type": "stream",
     "text": [
      "11/11 [==============================] - 1s 62ms/step - loss: 0.1244 - mse: 0.1244 - val_loss: 0.2419 - val_mse: 0.2419\n",
      "13/13 [==============================] - 0s 2ms/step\n",
      "7/7 [==============================] - 0s 2ms/step\n",
      "11/11 [==============================] - 1s 56ms/step - loss: 0.1222 - mse: 0.1222 - val_loss: 0.2633 - val_mse: 0.2633\n",
      "13/13 [==============================] - 0s 2ms/step\n",
      "7/7 [==============================] - 0s 2ms/step\n",
      "11/11 [==============================] - 1s 62ms/step - loss: 0.1337 - mse: 0.1337 - val_loss: 0.1059 - val_mse: 0.1059\n",
      "13/13 [==============================] - 0s 3ms/step\n",
      "7/7 [==============================] - 0s 4ms/step\n",
      "scoring pipeline 1\n",
      "10/10 [==============================] - 14s 1s/step - loss: 0.0937 - mse: 0.0937 - val_loss: 0.0302 - val_mse: 0.0302\n",
      "12/12 [==============================] - 5s 406ms/step\n",
      "6/6 [==============================] - 2s 334ms/step\n",
      "10/10 [==============================] - ETA: 0s - loss: 0.0771 - mse: 0.0771WARNING:tensorflow:5 out of the last 13 calls to <function Model.make_test_function.<locals>.test_function at 0x7fef47077f28> triggered tf.function retracing. Tracing is expensive and the excessive number of tracings could be due to (1) creating @tf.function repeatedly in a loop, (2) passing tensors with different shapes, (3) passing Python objects instead of tensors. For (1), please define your @tf.function outside of the loop. For (2), @tf.function has experimental_relax_shapes=True option that relaxes argument shapes that can avoid unnecessary retracing. For (3), please refer to https://www.tensorflow.org/tutorials/customization/performance#python_or_tensor_args and https://www.tensorflow.org/api_docs/python/tf/function for  more details.\n",
      "10/10 [==============================] - 14s 1s/step - loss: 0.0771 - mse: 0.0771 - val_loss: 0.0406 - val_mse: 0.0406\n",
      "12/12 [==============================] - 5s 396ms/step\n",
      "6/6 [==============================] - 2s 335ms/step\n",
      "10/10 [==============================] - ETA: 0s - loss: 0.0709 - mse: 0.0709WARNING:tensorflow:5 out of the last 13 calls to <function Model.make_test_function.<locals>.test_function at 0x7fef1ea03bf8> triggered tf.function retracing. Tracing is expensive and the excessive number of tracings could be due to (1) creating @tf.function repeatedly in a loop, (2) passing tensors with different shapes, (3) passing Python objects instead of tensors. For (1), please define your @tf.function outside of the loop. For (2), @tf.function has experimental_relax_shapes=True option that relaxes argument shapes that can avoid unnecessary retracing. For (3), please refer to https://www.tensorflow.org/tutorials/customization/performance#python_or_tensor_args and https://www.tensorflow.org/api_docs/python/tf/function for  more details.\n",
      "10/10 [==============================] - 13s 1s/step - loss: 0.0709 - mse: 0.0709 - val_loss: 0.0160 - val_mse: 0.0160\n",
      "12/12 [==============================] - 5s 410ms/step\n",
      "6/6 [==============================] - 2s 349ms/step\n",
      "New best found: 5.299655460389213\n",
      "scoring pipeline 2\n",
      "10/10 [==============================] - ETA: 0s - loss: 0.0586 - mse: 0.0586WARNING:tensorflow:5 out of the last 13 calls to <function Model.make_test_function.<locals>.test_function at 0x7fef4437d0d0> triggered tf.function retracing. Tracing is expensive and the excessive number of tracings could be due to (1) creating @tf.function repeatedly in a loop, (2) passing tensors with different shapes, (3) passing Python objects instead of tensors. For (1), please define your @tf.function outside of the loop. For (2), @tf.function has experimental_relax_shapes=True option that relaxes argument shapes that can avoid unnecessary retracing. For (3), please refer to https://www.tensorflow.org/tutorials/customization/performance#python_or_tensor_args and https://www.tensorflow.org/api_docs/python/tf/function for  more details.\n",
      "10/10 [==============================] - 11s 1s/step - loss: 0.0586 - mse: 0.0586 - val_loss: 0.0437 - val_mse: 0.0437\n",
      "12/12 [==============================] - 4s 335ms/step\n",
      "6/6 [==============================] - 2s 263ms/step\n",
      "10/10 [==============================] - ETA: 0s - loss: 0.0509 - mse: 0.0509WARNING:tensorflow:5 out of the last 13 calls to <function Model.make_test_function.<locals>.test_function at 0x7fef243b6bf8> triggered tf.function retracing. Tracing is expensive and the excessive number of tracings could be due to (1) creating @tf.function repeatedly in a loop, (2) passing tensors with different shapes, (3) passing Python objects instead of tensors. For (1), please define your @tf.function outside of the loop. For (2), @tf.function has experimental_relax_shapes=True option that relaxes argument shapes that can avoid unnecessary retracing. For (3), please refer to https://www.tensorflow.org/tutorials/customization/performance#python_or_tensor_args and https://www.tensorflow.org/api_docs/python/tf/function for  more details.\n",
      "10/10 [==============================] - 10s 1s/step - loss: 0.0509 - mse: 0.0509 - val_loss: 0.0226 - val_mse: 0.0226\n",
      "12/12 [==============================] - 4s 316ms/step\n",
      "6/6 [==============================] - 1s 245ms/step\n",
      "10/10 [==============================] - ETA: 0s - loss: 0.0720 - mse: 0.0720WARNING:tensorflow:5 out of the last 13 calls to <function Model.make_test_function.<locals>.test_function at 0x7fef4056c1e0> triggered tf.function retracing. Tracing is expensive and the excessive number of tracings could be due to (1) creating @tf.function repeatedly in a loop, (2) passing tensors with different shapes, (3) passing Python objects instead of tensors. For (1), please define your @tf.function outside of the loop. For (2), @tf.function has experimental_relax_shapes=True option that relaxes argument shapes that can avoid unnecessary retracing. For (3), please refer to https://www.tensorflow.org/tutorials/customization/performance#python_or_tensor_args and https://www.tensorflow.org/api_docs/python/tf/function for  more details.\n",
      "10/10 [==============================] - 11s 1s/step - loss: 0.0720 - mse: 0.0720 - val_loss: 0.0111 - val_mse: 0.0111\n",
      "12/12 [==============================] - 4s 343ms/step\n",
      "6/6 [==============================] - 2s 289ms/step\n",
      "New best found: 2.9210532356686763\n",
      "scoring pipeline 3\n",
      "10/10 [==============================] - ETA: 0s - loss: 0.0886 - mse: 0.0886WARNING:tensorflow:5 out of the last 13 calls to <function Model.make_test_function.<locals>.test_function at 0x7fef460732f0> triggered tf.function retracing. Tracing is expensive and the excessive number of tracings could be due to (1) creating @tf.function repeatedly in a loop, (2) passing tensors with different shapes, (3) passing Python objects instead of tensors. For (1), please define your @tf.function outside of the loop. For (2), @tf.function has experimental_relax_shapes=True option that relaxes argument shapes that can avoid unnecessary retracing. For (3), please refer to https://www.tensorflow.org/tutorials/customization/performance#python_or_tensor_args and https://www.tensorflow.org/api_docs/python/tf/function for  more details.\n",
      "10/10 [==============================] - 3s 311ms/step - loss: 0.0886 - mse: 0.0886 - val_loss: 0.0868 - val_mse: 0.0868\n",
      "12/12 [==============================] - 1s 78ms/step\n",
      "6/6 [==============================] - 0s 65ms/step\n",
      "10/10 [==============================] - ETA: 0s - loss: 0.0924 - mse: 0.0924WARNING:tensorflow:5 out of the last 13 calls to <function Model.make_test_function.<locals>.test_function at 0x7fef1e11bbf8> triggered tf.function retracing. Tracing is expensive and the excessive number of tracings could be due to (1) creating @tf.function repeatedly in a loop, (2) passing tensors with different shapes, (3) passing Python objects instead of tensors. For (1), please define your @tf.function outside of the loop. For (2), @tf.function has experimental_relax_shapes=True option that relaxes argument shapes that can avoid unnecessary retracing. For (3), please refer to https://www.tensorflow.org/tutorials/customization/performance#python_or_tensor_args and https://www.tensorflow.org/api_docs/python/tf/function for  more details.\n",
      "10/10 [==============================] - 4s 433ms/step - loss: 0.0924 - mse: 0.0924 - val_loss: 0.0921 - val_mse: 0.0921\n"
     ]
    },
    {
     "name": "stdout",
     "output_type": "stream",
     "text": [
      "12/12 [==============================] - 2s 178ms/step\n",
      "6/6 [==============================] - 1s 98ms/step\n",
      "10/10 [==============================] - ETA: 0s - loss: 0.1125 - mse: 0.1125WARNING:tensorflow:5 out of the last 13 calls to <function Model.make_test_function.<locals>.test_function at 0x7fef008e6b70> triggered tf.function retracing. Tracing is expensive and the excessive number of tracings could be due to (1) creating @tf.function repeatedly in a loop, (2) passing tensors with different shapes, (3) passing Python objects instead of tensors. For (1), please define your @tf.function outside of the loop. For (2), @tf.function has experimental_relax_shapes=True option that relaxes argument shapes that can avoid unnecessary retracing. For (3), please refer to https://www.tensorflow.org/tutorials/customization/performance#python_or_tensor_args and https://www.tensorflow.org/api_docs/python/tf/function for  more details.\n",
      "10/10 [==============================] - 4s 362ms/step - loss: 0.1125 - mse: 0.1125 - val_loss: 0.0210 - val_mse: 0.0210\n",
      "12/12 [==============================] - 1s 91ms/step\n",
      "6/6 [==============================] - 0s 70ms/step\n",
      "scoring pipeline 4\n",
      "10/10 [==============================] - ETA: 0s - loss: 0.0978 - mse: 0.0978WARNING:tensorflow:5 out of the last 13 calls to <function Model.make_test_function.<locals>.test_function at 0x7fef4b6cf158> triggered tf.function retracing. Tracing is expensive and the excessive number of tracings could be due to (1) creating @tf.function repeatedly in a loop, (2) passing tensors with different shapes, (3) passing Python objects instead of tensors. For (1), please define your @tf.function outside of the loop. For (2), @tf.function has experimental_relax_shapes=True option that relaxes argument shapes that can avoid unnecessary retracing. For (3), please refer to https://www.tensorflow.org/tutorials/customization/performance#python_or_tensor_args and https://www.tensorflow.org/api_docs/python/tf/function for  more details.\n",
      "10/10 [==============================] - 9s 860ms/step - loss: 0.0978 - mse: 0.0978 - val_loss: 0.1289 - val_mse: 0.1289\n",
      "12/12 [==============================] - 3s 241ms/step\n",
      "6/6 [==============================] - 1s 211ms/step\n",
      "10/10 [==============================] - ETA: 0s - loss: 0.0596 - mse: 0.0596WARNING:tensorflow:5 out of the last 13 calls to <function Model.make_test_function.<locals>.test_function at 0x7fef4604aea0> triggered tf.function retracing. Tracing is expensive and the excessive number of tracings could be due to (1) creating @tf.function repeatedly in a loop, (2) passing tensors with different shapes, (3) passing Python objects instead of tensors. For (1), please define your @tf.function outside of the loop. For (2), @tf.function has experimental_relax_shapes=True option that relaxes argument shapes that can avoid unnecessary retracing. For (3), please refer to https://www.tensorflow.org/tutorials/customization/performance#python_or_tensor_args and https://www.tensorflow.org/api_docs/python/tf/function for  more details.\n",
      "10/10 [==============================] - 8s 783ms/step - loss: 0.0596 - mse: 0.0596 - val_loss: 0.0309 - val_mse: 0.0309\n",
      "12/12 [==============================] - 3s 241ms/step\n",
      "6/6 [==============================] - 1s 203ms/step\n",
      "10/10 [==============================] - ETA: 0s - loss: 0.0768 - mse: 0.0768WARNING:tensorflow:5 out of the last 13 calls to <function Model.make_test_function.<locals>.test_function at 0x7fef00175ae8> triggered tf.function retracing. Tracing is expensive and the excessive number of tracings could be due to (1) creating @tf.function repeatedly in a loop, (2) passing tensors with different shapes, (3) passing Python objects instead of tensors. For (1), please define your @tf.function outside of the loop. For (2), @tf.function has experimental_relax_shapes=True option that relaxes argument shapes that can avoid unnecessary retracing. For (3), please refer to https://www.tensorflow.org/tutorials/customization/performance#python_or_tensor_args and https://www.tensorflow.org/api_docs/python/tf/function for  more details.\n",
      "10/10 [==============================] - 7s 732ms/step - loss: 0.0768 - mse: 0.0768 - val_loss: 0.0148 - val_mse: 0.0148\n",
      "12/12 [==============================] - 3s 241ms/step\n",
      "6/6 [==============================] - 2s 260ms/step\n",
      "15/15 [==============================] - ETA: 0s - loss: 0.0629 - mse: 0.0629WARNING:tensorflow:5 out of the last 13 calls to <function Model.make_test_function.<locals>.test_function at 0x7fef0138cd90> triggered tf.function retracing. Tracing is expensive and the excessive number of tracings could be due to (1) creating @tf.function repeatedly in a loop, (2) passing tensors with different shapes, (3) passing Python objects instead of tensors. For (1), please define your @tf.function outside of the loop. For (2), @tf.function has experimental_relax_shapes=True option that relaxes argument shapes that can avoid unnecessary retracing. For (3), please refer to https://www.tensorflow.org/tutorials/customization/performance#python_or_tensor_args and https://www.tensorflow.org/api_docs/python/tf/function for  more details.\n",
      "15/15 [==============================] - 20s 1s/step - loss: 0.0629 - mse: 0.0629 - val_loss: 0.0421 - val_mse: 0.0421\n",
      "19/19 [==============================] - 7s 387ms/step\n"
     ]
    }
   ],
   "source": [
    "pyteller.fit(current_data, tune=True, max_evals=4)"
   ]
  },
  {
   "cell_type": "markdown",
   "metadata": {},
   "source": [
    "## Check what tuner found the best hyperparameters to be"
   ]
  },
  {
   "cell_type": "code",
   "execution_count": 19,
   "metadata": {
    "pycharm": {
     "is_executing": true,
     "name": "#%%\n"
    }
   },
   "outputs": [
    {
     "name": "stdout",
     "output_type": "stream",
     "text": [
      "{'pyteller.primitives.preprocessing.format_data#1': {'make_index': False}, 'pyteller.primitives.preprocessing.get_index#1': {}, 'sklearn.impute.SimpleImputer#1': {'missing_values': nan, 'fill_value': None, 'verbose': False, 'copy': True, 'strategy': 'most_frequent'}, 'mlprimitives.custom.preprocessing.RangeScaler#1': {'out_min': -1, 'out_max': 1}, 'mlprimitives.custom.timeseries_preprocessing.rolling_window_sequences#1': {'window_size': 144, 'target_size': 5, 'step_size': 2, 'target_column': 0, 'offset': 0, 'drop_windows': False}, 'keras.Sequential.LSTMTimeSeriesRegressor#1': {'classification': False, 'verbose': 1, 'epochs': 1, 'callbacks': [{'class': 'keras.callbacks.EarlyStopping', 'args': {'monitor': 'val_loss', 'patience': 10, 'min_delta': 0.0003}}], 'validation_split': 0.2, 'batch_size': 64, 'input_shape': None, 'dense_units': 5, 'optimizer': 'keras.optimizers.Adam', 'loss': 'keras.losses.mean_squared_error', 'metrics': ['mse'], 'return_sequences': False, 'layers': [{'class': 'keras.layers.LSTM', 'parameters': {'input_shape': 'input_shape', 'units': 'lstm_1_units', 'return_sequences': True}}, {'class': 'keras.layers.Dropout', 'parameters': {'rate': 'dropout_1_rate'}}, {'class': 'keras.layers.LSTM', 'parameters': {'units': 'lstm_2_units', 'return_sequences': False}}, {'class': 'keras.layers.Dropout', 'parameters': {'rate': 'dropout_2_rate'}}, {'class': 'keras.layers.Dense', 'parameters': {'units': 'dense_units', 'activation': 'linear'}}], 'lstm_1_units': 326, 'dropout_1_rate': 0.09057946774023817, 'lstm_2_units': 438, 'dropout_2_rate': 0.5107793333914044}, 'mlprimitives.custom.preprocessing.RangeUnscaler#1': {'out_min': -1, 'out_max': 1}, 'pyteller.primitives.postprocessing.flatten#1': {'pred_length': 5, 'type': 'average'}, 'pyteller.primitives.postprocessing.reformat_data#1': {}}\n"
     ]
    }
   ],
   "source": [
    "best_params=pyteller.pipeline.get_hyperparameters()\n",
    "print(best_params)"
   ]
  },
  {
   "cell_type": "markdown",
   "metadata": {},
   "source": [
    "## Forecast"
   ]
  },
  {
   "cell_type": "code",
   "execution_count": 20,
   "metadata": {
    "pycharm": {
     "is_executing": true,
     "name": "#%%\n"
    }
   },
   "outputs": [
    {
     "name": "stdout",
     "output_type": "stream",
     "text": [
      "4/4 [==============================] - 1s 275ms/step\n"
     ]
    }
   ],
   "source": [
    "output = pyteller.forecast(data=input_data, postprocessing=False, predictions_only=False)"
   ]
  },
  {
   "cell_type": "markdown",
   "metadata": {},
   "source": [
    "## Evaluate"
   ]
  },
  {
   "cell_type": "code",
   "execution_count": 21,
   "metadata": {
    "pycharm": {
     "is_executing": true,
     "name": "#%%\n"
    }
   },
   "outputs": [
    {
     "data": {
      "text/html": [
       "<div>\n",
       "<style scoped>\n",
       "    .dataframe tbody tr th:only-of-type {\n",
       "        vertical-align: middle;\n",
       "    }\n",
       "\n",
       "    .dataframe tbody tr th {\n",
       "        vertical-align: top;\n",
       "    }\n",
       "\n",
       "    .dataframe thead th {\n",
       "        text-align: right;\n",
       "    }\n",
       "</style>\n",
       "<table border=\"1\" class=\"dataframe\">\n",
       "  <thead>\n",
       "    <tr style=\"text-align: right;\">\n",
       "      <th></th>\n",
       "      <th>tmpf</th>\n",
       "    </tr>\n",
       "  </thead>\n",
       "  <tbody>\n",
       "    <tr>\n",
       "      <th>sMAPE</th>\n",
       "      <td>10.455404</td>\n",
       "    </tr>\n",
       "    <tr>\n",
       "      <th>MAPE</th>\n",
       "      <td>10.754504</td>\n",
       "    </tr>\n",
       "  </tbody>\n",
       "</table>\n",
       "</div>"
      ],
      "text/plain": [
       "            tmpf\n",
       "sMAPE  10.455404\n",
       "MAPE   10.754504"
      ]
     },
     "execution_count": 21,
     "metadata": {},
     "output_type": "execute_result"
    }
   ],
   "source": [
    "scores = pyteller.evaluate(actuals=output['actuals'], forecasts=output['forecasts'],\n",
    "                           metrics=['MAPE', 'sMAPE'])\n",
    "\n",
    "\n",
    "scores.head()"
   ]
  },
  {
   "cell_type": "markdown",
   "metadata": {},
   "source": [
    "## Plot"
   ]
  },
  {
   "cell_type": "code",
   "execution_count": null,
   "metadata": {
    "pycharm": {
     "is_executing": true,
     "name": "#%%\n"
    }
   },
   "outputs": [],
   "source": [
    "pyteller.plot(output)\n",
    "\n",
    "\n"
   ]
  },
  {
   "cell_type": "code",
   "execution_count": null,
   "metadata": {},
   "outputs": [],
   "source": []
  }
 ],
 "metadata": {
  "kernelspec": {
   "display_name": "Python 3",
   "language": "python",
   "name": "python3"
  },
  "language_info": {
   "codemirror_mode": {
    "name": "ipython",
    "version": 3
   },
   "file_extension": ".py",
   "mimetype": "text/x-python",
   "name": "python",
   "nbconvert_exporter": "python",
   "pygments_lexer": "ipython3",
   "version": "3.6.13"
  },
  "pycharm": {
   "stem_cell": {
    "cell_type": "raw",
    "source": [],
    "metadata": {
     "collapsed": false
    }
   }
  }
 },
 "nbformat": 4,
 "nbformat_minor": 2
}
